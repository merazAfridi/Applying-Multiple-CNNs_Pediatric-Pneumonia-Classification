{
  "metadata": {
    "kernelspec": {
      "language": "python",
      "display_name": "Python 3",
      "name": "python3"
    },
    "language_info": {
      "name": "python",
      "version": "3.10.14",
      "mimetype": "text/x-python",
      "codemirror_mode": {
        "name": "ipython",
        "version": 3
      },
      "pygments_lexer": "ipython3",
      "nbconvert_exporter": "python",
      "file_extension": ".py"
    },
    "kaggle": {
      "accelerator": "gpu",
      "dataSources": [
        {
          "sourceId": 9789214,
          "sourceType": "datasetVersion",
          "datasetId": 5998230
        }
      ],
      "dockerImageVersionId": 30787,
      "isInternetEnabled": true,
      "language": "python",
      "sourceType": "notebook",
      "isGpuEnabled": true
    },
    "colab": {
      "provenance": [],
      "include_colab_link": true
    }
  },
  "nbformat_minor": 0,
  "nbformat": 4,
  "cells": [
    {
      "cell_type": "markdown",
      "metadata": {
        "id": "view-in-github",
        "colab_type": "text"
      },
      "source": [
        "<a href=\"https://colab.research.google.com/github/merazAfridi/PneumoNet-CNN-Based-Analysis-for-Pediatric-Pneumonia-Medical-image-analysis-/blob/main/Pediatric_Pneumonia_classification_vgg16.ipynb\" target=\"_parent\"><img src=\"https://colab.research.google.com/assets/colab-badge.svg\" alt=\"Open In Colab\"/></a>"
      ]
    },
    {
      "source": [
        "# IMPORTANT: SOME KAGGLE DATA SOURCES ARE PRIVATE\n",
        "# RUN THIS CELL IN ORDER TO IMPORT YOUR KAGGLE DATA SOURCES.\n",
        "import kagglehub\n",
        "kagglehub.login()\n"
      ],
      "metadata": {
        "id": "3L4D-Oc9Tr2t"
      },
      "cell_type": "code",
      "outputs": [],
      "execution_count": null
    },
    {
      "source": [
        "# IMPORTANT: RUN THIS CELL IN ORDER TO IMPORT YOUR KAGGLE DATA SOURCES,\n",
        "# THEN FEEL FREE TO DELETE THIS CELL.\n",
        "# NOTE: THIS NOTEBOOK ENVIRONMENT DIFFERS FROM KAGGLE'S PYTHON\n",
        "# ENVIRONMENT SO THERE MAY BE MISSING LIBRARIES USED BY YOUR\n",
        "# NOTEBOOK.\n",
        "\n",
        "gazimerazmehedi_pediatric_pneumonia_path = kagglehub.dataset_download('gazimerazmehedi/pediatric-pneumonia')\n",
        "\n",
        "print('Data source import complete.')\n"
      ],
      "metadata": {
        "id": "i5NPK5K1Tr2w"
      },
      "cell_type": "code",
      "outputs": [],
      "execution_count": null
    },
    {
      "cell_type": "code",
      "source": [
        "# This Python 3 environment comes with many helpful analytics libraries installed\n",
        "# It is defined by the kaggle/python Docker image: https://github.com/kaggle/docker-python\n",
        "# For example, here's several helpful packages to load\n",
        "\n",
        "import numpy as np # linear algebra\n",
        "import pandas as pd # data processing, CSV file I/O (e.g. pd.read_csv)\n",
        "\n",
        "# Input data files are available in the read-only \"../input/\" directory\n",
        "# For example, running this (by clicking run or pressing Shift+Enter) will list all files under the input directory\n",
        "\n",
        "import os\n",
        "for dirname, _, filenames in os.walk('/kaggle/input'):\n",
        "    for filename in filenames:\n",
        "        print(os.path.join(dirname, filename))\n",
        "\n",
        "# You can write up to 20GB to the current directory (/kaggle/working/) that gets preserved as output when you create a version using \"Save & Run All\"\n",
        "# You can also write temporary files to /kaggle/temp/, but they won't be saved outside of the current session"
      ],
      "metadata": {
        "_uuid": "8f2839f25d086af736a60e9eeb907d3b93b6e0e5",
        "_cell_guid": "b1076dfc-b9ad-4769-8c92-a6c4dae69d19",
        "execution": {
          "iopub.status.busy": "2024-11-02T17:06:56.440767Z",
          "iopub.execute_input": "2024-11-02T17:06:56.4412Z",
          "iopub.status.idle": "2024-11-02T17:06:58.06709Z",
          "shell.execute_reply.started": "2024-11-02T17:06:56.441151Z",
          "shell.execute_reply": "2024-11-02T17:06:58.066095Z"
        },
        "trusted": true,
        "id": "SWw8zFKaTr2y"
      },
      "execution_count": null,
      "outputs": []
    },
    {
      "cell_type": "code",
      "source": [
        "#Import Libraries\n",
        "import numpy as np\n",
        "import matplotlib.pyplot as plt\n",
        "from tensorflow.keras.preprocessing.image import ImageDataGenerator"
      ],
      "metadata": {
        "execution": {
          "iopub.status.busy": "2024-11-02T17:07:05.061832Z",
          "iopub.execute_input": "2024-11-02T17:07:05.062613Z",
          "iopub.status.idle": "2024-11-02T17:07:08.178137Z",
          "shell.execute_reply.started": "2024-11-02T17:07:05.062569Z",
          "shell.execute_reply": "2024-11-02T17:07:08.177311Z"
        },
        "trusted": true,
        "id": "Sl5_YWPZTr2z"
      },
      "execution_count": null,
      "outputs": []
    },
    {
      "cell_type": "code",
      "source": [
        "#Image Dimensions and Batch Size\n",
        "img_height, img_width = 128, 128\n",
        "batch_size = 32\n"
      ],
      "metadata": {
        "execution": {
          "iopub.status.busy": "2024-11-02T17:07:26.917829Z",
          "iopub.execute_input": "2024-11-02T17:07:26.919021Z",
          "iopub.status.idle": "2024-11-02T17:07:26.9234Z",
          "shell.execute_reply.started": "2024-11-02T17:07:26.918975Z",
          "shell.execute_reply": "2024-11-02T17:07:26.922396Z"
        },
        "trusted": true,
        "id": "baWDeXM9Tr20"
      },
      "execution_count": null,
      "outputs": []
    },
    {
      "cell_type": "code",
      "source": [
        "#Data Augmentation for Training Data\n",
        "train_datagen = ImageDataGenerator(\n",
        "    rescale=1.0 / 255,\n",
        "    rotation_range=20,\n",
        "    width_shift_range=0.2,\n",
        "    height_shift_range=0.2,\n",
        "    shear_range=0.2,\n",
        "    zoom_range=0.2,\n",
        "    horizontal_flip=True,\n",
        "    fill_mode='nearest',\n",
        "    validation_split=0.2\n",
        ")\n"
      ],
      "metadata": {
        "execution": {
          "iopub.status.busy": "2024-11-02T17:08:32.992035Z",
          "iopub.execute_input": "2024-11-02T17:08:32.992848Z",
          "iopub.status.idle": "2024-11-02T17:08:32.997959Z",
          "shell.execute_reply.started": "2024-11-02T17:08:32.992806Z",
          "shell.execute_reply": "2024-11-02T17:08:32.996887Z"
        },
        "trusted": true,
        "id": "D8534_qoTr20"
      },
      "execution_count": null,
      "outputs": []
    },
    {
      "cell_type": "code",
      "source": [
        "#Load Training Data\n",
        "train_generator = train_datagen.flow_from_directory(\n",
        "    '/kaggle/input/pediatric-pneumonia/train/',\n",
        "    target_size=(img_height, img_width),\n",
        "    batch_size=batch_size,\n",
        "    class_mode='binary',\n",
        "    subset='training'\n",
        ")\n"
      ],
      "metadata": {
        "execution": {
          "iopub.status.busy": "2024-11-02T17:08:36.20684Z",
          "iopub.execute_input": "2024-11-02T17:08:36.20724Z",
          "iopub.status.idle": "2024-11-02T17:08:37.477669Z",
          "shell.execute_reply.started": "2024-11-02T17:08:36.2072Z",
          "shell.execute_reply": "2024-11-02T17:08:37.476723Z"
        },
        "trusted": true,
        "id": "qmI60HUkTr21"
      },
      "execution_count": null,
      "outputs": []
    },
    {
      "cell_type": "code",
      "source": [
        "#Load Validation Data\n",
        "validation_generator = train_datagen.flow_from_directory(\n",
        "    '/kaggle/input/pediatric-pneumonia/train/',\n",
        "    target_size=(img_height, img_width),\n",
        "    batch_size=batch_size,\n",
        "    class_mode='binary',\n",
        "    subset='validation'\n",
        ")\n"
      ],
      "metadata": {
        "execution": {
          "iopub.status.busy": "2024-11-02T17:11:16.496883Z",
          "iopub.execute_input": "2024-11-02T17:11:16.497848Z",
          "iopub.status.idle": "2024-11-02T17:11:17.678871Z",
          "shell.execute_reply.started": "2024-11-02T17:11:16.497801Z",
          "shell.execute_reply": "2024-11-02T17:11:17.678093Z"
        },
        "trusted": true,
        "id": "e4PeXx_oTr21"
      },
      "execution_count": null,
      "outputs": []
    },
    {
      "cell_type": "code",
      "source": [
        "# Step 6: Load Test Data\n",
        "test_datagen = ImageDataGenerator(rescale=1.0 / 255)  # No augmentation for test data\n",
        "\n",
        "test_generator = test_datagen.flow_from_directory(\n",
        "    '/kaggle/input/pediatric-pneumonia/test/',\n",
        "    target_size=(img_height, img_width),\n",
        "    batch_size=batch_size,\n",
        "    class_mode='binary',\n",
        "    shuffle=False\n",
        ")\n"
      ],
      "metadata": {
        "execution": {
          "iopub.status.busy": "2024-11-02T17:11:44.138938Z",
          "iopub.execute_input": "2024-11-02T17:11:44.140165Z",
          "iopub.status.idle": "2024-11-02T17:11:44.169413Z",
          "shell.execute_reply.started": "2024-11-02T17:11:44.140098Z",
          "shell.execute_reply": "2024-11-02T17:11:44.16867Z"
        },
        "trusted": true,
        "id": "ionPghWiTr21"
      },
      "execution_count": null,
      "outputs": []
    },
    {
      "cell_type": "code",
      "source": [
        "#Print Shapes and Sizes of Datasets\n",
        "print(f'Train Data: {train_generator.n} images')\n",
        "print(f'Validation Data: {validation_generator.n} images')\n",
        "print(f'Test Data: {test_generator.n} images')\n"
      ],
      "metadata": {
        "execution": {
          "iopub.status.busy": "2024-11-02T17:12:34.046867Z",
          "iopub.execute_input": "2024-11-02T17:12:34.047271Z",
          "iopub.status.idle": "2024-11-02T17:12:34.053276Z",
          "shell.execute_reply.started": "2024-11-02T17:12:34.047232Z",
          "shell.execute_reply": "2024-11-02T17:12:34.052282Z"
        },
        "trusted": true,
        "id": "JGYbWAi0Tr22"
      },
      "execution_count": null,
      "outputs": []
    },
    {
      "cell_type": "code",
      "source": [
        "# Display First 5 Normal and Pneumonia Training Samples\n",
        "def display_samples(generator, num_samples=5):\n",
        "    plt.figure(figsize=(15, 5))\n",
        "    normal_count = 0\n",
        "    pneumonia_count = 0\n",
        "\n",
        "    for x_batch, y_batch in generator:\n",
        "        for i in range(len(y_batch)):\n",
        "            if y_batch[i] == 0 and normal_count < num_samples:\n",
        "                plt.subplot(2, num_samples, normal_count + 1)\n",
        "                plt.imshow(x_batch[i])\n",
        "                plt.title('Normal')\n",
        "                plt.axis('off')\n",
        "                normal_count += 1\n",
        "            elif y_batch[i] == 1 and pneumonia_count < num_samples:\n",
        "                plt.subplot(2, num_samples, num_samples + pneumonia_count + 1)\n",
        "                plt.imshow(x_batch[i])\n",
        "                plt.title('Pneumonia')\n",
        "                plt.axis('off')\n",
        "                pneumonia_count += 1\n",
        "\n",
        "            if normal_count >= num_samples and pneumonia_count >= num_samples:\n",
        "                break\n",
        "        if normal_count >= num_samples and pneumonia_count >= num_samples:\n",
        "            break\n",
        "\n",
        "# Display\n",
        "display_samples(train_generator)\n"
      ],
      "metadata": {
        "execution": {
          "iopub.status.busy": "2024-11-02T17:13:03.44679Z",
          "iopub.execute_input": "2024-11-02T17:13:03.447195Z",
          "iopub.status.idle": "2024-11-02T17:13:04.947829Z",
          "shell.execute_reply.started": "2024-11-02T17:13:03.447157Z",
          "shell.execute_reply": "2024-11-02T17:13:04.946912Z"
        },
        "trusted": true,
        "id": "lgm3lC-bTr22"
      },
      "execution_count": null,
      "outputs": []
    },
    {
      "cell_type": "code",
      "source": [
        "# Print Total Size and Shape of Datasets\n",
        "print(f'Train Data Size: {train_generator.n} images')\n",
        "print(f'Validation Data Size: {validation_generator.n} images')\n",
        "print(f'Test Data Size: {test_generator.n} images')\n",
        "\n",
        "x_train, y_train = next(train_generator)\n",
        "x_val, y_val = next(validation_generator)\n",
        "x_test, y_test = next(test_generator)\n",
        "\n",
        "print(f'Train Data Shape: {x_train.shape} | Labels Shape: {y_train.shape}') #each batch\n",
        "print(f'Validation Data Shape: {x_val.shape} | Labels Shape: {y_val.shape}')\n",
        "print(f'Test Data Shape: {x_test.shape} | Labels Shape: {y_test.shape}')\n"
      ],
      "metadata": {
        "execution": {
          "iopub.status.busy": "2024-11-02T17:14:27.80731Z",
          "iopub.execute_input": "2024-11-02T17:14:27.808502Z",
          "iopub.status.idle": "2024-11-02T17:14:29.498709Z",
          "shell.execute_reply.started": "2024-11-02T17:14:27.808457Z",
          "shell.execute_reply": "2024-11-02T17:14:29.497709Z"
        },
        "trusted": true,
        "id": "PNdD-DUrTr23"
      },
      "execution_count": null,
      "outputs": []
    },
    {
      "cell_type": "code",
      "source": [
        "#VGG16\n",
        "\n",
        "from tensorflow.keras.applications import VGG16\n",
        "from tensorflow.keras.models import Model\n",
        "from tensorflow.keras.layers import Dense, Flatten, Dropout\n",
        "\n",
        "#load VGG16 with pretrained weights from ImageNet, excluding the top layer\n",
        "base_model = VGG16(weights='imagenet', include_top=False, input_shape=(img_height, img_width, 3))\n",
        "\n",
        "#Freeze the base model layers\n",
        "for layer in base_model.layers:\n",
        "    layer.trainable = False\n",
        "\n",
        "#custom layers on top of the base model\n",
        "x = Flatten()(base_model.output)\n",
        "x = Dense(256, activation='relu')(x)\n",
        "x = Dropout(0.5)(x)  #Dropout layer\n",
        "predictions = Dense(1, activation='sigmoid')(x)  #binary classification\n",
        "\n",
        "#model\n",
        "model = Model(inputs=base_model.input, outputs=predictions)\n",
        "\n",
        "#summary\n",
        "model.summary()\n"
      ],
      "metadata": {
        "execution": {
          "iopub.status.busy": "2024-11-02T17:15:40.042532Z",
          "iopub.execute_input": "2024-11-02T17:15:40.042938Z",
          "iopub.status.idle": "2024-11-02T17:15:40.852725Z",
          "shell.execute_reply.started": "2024-11-02T17:15:40.0429Z",
          "shell.execute_reply": "2024-11-02T17:15:40.851839Z"
        },
        "trusted": true,
        "id": "vR2ocKHNTr24"
      },
      "execution_count": null,
      "outputs": []
    },
    {
      "cell_type": "code",
      "source": [
        "from tensorflow.keras import backend as K\n",
        "from tensorflow.keras.callbacks import ModelCheckpoint\n",
        "from tensorflow.keras.metrics import Precision, AUC\n",
        "\n",
        "# Instantiate metrics\n",
        "precision_metric = Precision()\n",
        "auc_metric = AUC()\n",
        "\n",
        "# save model\n",
        "checkpoint_filepath = '/kaggle/working/best_model.keras'\n",
        "model_checkpoint_callback = ModelCheckpoint(\n",
        "    filepath=checkpoint_filepath,\n",
        "    save_weights_only=False,\n",
        "    monitor='val_auc',\n",
        "    save_best_only=True,\n",
        "    mode='max',\n",
        "    verbose=1\n",
        ")\n",
        "\n",
        "#Compile\n",
        "model.compile(optimizer='adam',\n",
        "              loss='binary_crossentropy',\n",
        "              metrics=['accuracy', precision_metric, auc_metric])\n",
        "\n",
        "# Fit model\n",
        "history = model.fit(\n",
        "    train_generator,\n",
        "    steps_per_epoch=train_generator.samples // batch_size,\n",
        "    validation_data=validation_generator,\n",
        "    validation_steps=validation_generator.samples // batch_size,\n",
        "    epochs=20,\n",
        "    callbacks=[model_checkpoint_callback]\n",
        ")\n",
        "\n"
      ],
      "metadata": {
        "execution": {
          "iopub.status.busy": "2024-11-02T17:34:57.486611Z",
          "iopub.execute_input": "2024-11-02T17:34:57.487015Z",
          "iopub.status.idle": "2024-11-02T17:45:44.388962Z",
          "shell.execute_reply.started": "2024-11-02T17:34:57.486976Z",
          "shell.execute_reply": "2024-11-02T17:45:44.387983Z"
        },
        "trusted": true,
        "id": "3j3UGRe2Tr24"
      },
      "execution_count": null,
      "outputs": []
    },
    {
      "cell_type": "code",
      "source": [
        "# Summarize history for accuracy\n",
        "plt.figure(figsize=(8, 3))\n",
        "plt.plot(history.history['accuracy'])\n",
        "plt.plot(history.history['val_accuracy'])\n",
        "plt.title('model accuracy')\n",
        "plt.ylabel('accuracy')\n",
        "plt.xlabel('epoch')\n",
        "plt.legend(['train', 'test'], loc='upper left')\n",
        "plt.show()\n",
        "\n"
      ],
      "metadata": {
        "execution": {
          "iopub.status.busy": "2024-11-02T17:51:36.371742Z",
          "iopub.execute_input": "2024-11-02T17:51:36.372149Z",
          "iopub.status.idle": "2024-11-02T17:51:36.676785Z",
          "shell.execute_reply.started": "2024-11-02T17:51:36.37211Z",
          "shell.execute_reply": "2024-11-02T17:51:36.675775Z"
        },
        "trusted": true,
        "id": "JcJTqp0mTr25"
      },
      "execution_count": null,
      "outputs": []
    },
    {
      "cell_type": "code",
      "source": [
        "# Summarize history for loss\n",
        "plt.figure(figsize=(8, 3))\n",
        "plt.plot(history.history['loss'])\n",
        "plt.plot(history.history['val_loss'])\n",
        "plt.title('model loss')\n",
        "plt.ylabel('loss')\n",
        "plt.xlabel('epoch')\n",
        "plt.legend(['train', 'test'], loc='upper left')\n",
        "plt.show()"
      ],
      "metadata": {
        "execution": {
          "iopub.status.busy": "2024-11-02T17:51:47.5872Z",
          "iopub.execute_input": "2024-11-02T17:51:47.588077Z",
          "iopub.status.idle": "2024-11-02T17:51:47.881901Z",
          "shell.execute_reply.started": "2024-11-02T17:51:47.588022Z",
          "shell.execute_reply": "2024-11-02T17:51:47.880892Z"
        },
        "trusted": true,
        "id": "TXxnZ9ShTr25"
      },
      "execution_count": null,
      "outputs": []
    },
    {
      "cell_type": "code",
      "source": [
        "# Summarize history for Precision\n",
        "plt.figure(figsize=(8, 3))\n",
        "plt.plot(history.history['precision_4'])\n",
        "plt.plot(history.history['val_precision_4'])\n",
        "plt.title('Model Precision')\n",
        "plt.ylabel('Precision')\n",
        "plt.xlabel('Epoch')\n",
        "plt.legend(['Train', 'Validation'], loc='upper left')\n",
        "plt.grid()\n",
        "plt.show()\n"
      ],
      "metadata": {
        "execution": {
          "iopub.status.busy": "2024-11-02T17:51:54.739688Z",
          "iopub.execute_input": "2024-11-02T17:51:54.740043Z",
          "iopub.status.idle": "2024-11-02T17:51:55.03056Z",
          "shell.execute_reply.started": "2024-11-02T17:51:54.74001Z",
          "shell.execute_reply": "2024-11-02T17:51:55.029575Z"
        },
        "trusted": true,
        "id": "E2YxJ7ZqTr25"
      },
      "execution_count": null,
      "outputs": []
    },
    {
      "cell_type": "code",
      "source": [
        "# Summarize history for AUC\n",
        "plt.figure(figsize=(8, 3))\n",
        "plt.plot(history.history['auc_2'])\n",
        "plt.plot(history.history['val_auc_2'])\n",
        "plt.title('Model AUC')\n",
        "plt.ylabel('AUC')\n",
        "plt.xlabel('Epoch')\n",
        "plt.legend(['Train', 'Validation'], loc='upper left')\n",
        "plt.grid()\n",
        "plt.show()"
      ],
      "metadata": {
        "execution": {
          "iopub.status.busy": "2024-11-02T18:38:31.267488Z",
          "iopub.execute_input": "2024-11-02T18:38:31.268233Z",
          "iopub.status.idle": "2024-11-02T18:38:31.498455Z",
          "shell.execute_reply.started": "2024-11-02T18:38:31.268189Z",
          "shell.execute_reply": "2024-11-02T18:38:31.497445Z"
        },
        "trusted": true,
        "id": "RCjVVNWmTr25"
      },
      "execution_count": null,
      "outputs": []
    },
    {
      "cell_type": "code",
      "source": [
        "# Best Training\n",
        "best_train_loss = min(history.history['loss'])\n",
        "best_val_loss = min(history.history['val_loss'])\n",
        "best_train_accuracy = max(history.history['accuracy'])\n",
        "best_val_accuracy = max(history.history['val_accuracy'])\n",
        "best_train_precision = max(history.history['precision_4'])\n",
        "best_val_precision = max(history.history['val_precision_4'])\n",
        "best_train_auc = max(history.history['auc_2'])\n",
        "best_val_auc = max(history.history['val_auc_2'])\n",
        "\n",
        "# Print the best performing metrics\n",
        "print(f'Best Training Loss: {best_train_loss:.6f}')\n",
        "print(f'Best Validation Loss: {best_val_loss:.6f}')\n",
        "print(f'Best Training Accuracy: {best_train_accuracy:.6f}')\n",
        "print(f'Best Validation Accuracy: {best_val_accuracy:.6f}')\n",
        "print(f'Best Training Precision: {best_train_precision:.6f}')\n",
        "print(f'Best Validation Precision: {best_val_precision:.6f}')\n",
        "print(f'Best Training AUC: {best_train_auc:.6f}')\n",
        "print(f'Best Validation AUC: {best_val_auc:.6f}')\n"
      ],
      "metadata": {
        "execution": {
          "iopub.status.busy": "2024-11-02T17:55:27.107343Z",
          "iopub.execute_input": "2024-11-02T17:55:27.108239Z",
          "iopub.status.idle": "2024-11-02T17:55:27.116663Z",
          "shell.execute_reply.started": "2024-11-02T17:55:27.108195Z",
          "shell.execute_reply": "2024-11-02T17:55:27.115408Z"
        },
        "trusted": true,
        "id": "xnuK3Z4pTr25"
      },
      "execution_count": null,
      "outputs": []
    },
    {
      "cell_type": "code",
      "source": [
        "import numpy as np\n",
        "import cv2\n",
        "import matplotlib.pyplot as plt\n",
        "from sklearn.metrics import accuracy_score, precision_score, roc_auc_score\n",
        "\n",
        "TEST_DIR = '/kaggle/input/pediatric-pneumonia/test/'\n",
        "\n",
        "# Get true labels from the directory structure\n",
        "true_labels = []\n",
        "for filename in test_generator.filenames:\n",
        "    if 'NORMAL' in filename:\n",
        "        true_labels.append(0)  # Normal\n",
        "    else:\n",
        "        true_labels.append(1)  # Pneumonia\n",
        "\n",
        "true_labels = np.array(true_labels)\n",
        "\n",
        "#predictions\n",
        "predictions = model.predict(test_generator)\n",
        "predicted_classes = (predictions > 0.5).astype(int)"
      ],
      "metadata": {
        "execution": {
          "iopub.status.busy": "2024-11-02T18:57:01.768543Z",
          "iopub.execute_input": "2024-11-02T18:57:01.768939Z",
          "iopub.status.idle": "2024-11-02T18:57:07.292629Z",
          "shell.execute_reply.started": "2024-11-02T18:57:01.768902Z",
          "shell.execute_reply": "2024-11-02T18:57:07.291769Z"
        },
        "trusted": true,
        "id": "W0yNrtXuTr26"
      },
      "execution_count": null,
      "outputs": []
    },
    {
      "cell_type": "code",
      "source": [
        "#visualize some actual vs predicted\n",
        "def visualize_predictions_grid(test_generator, predicted_classes, true_labels, num_images_per_class=10):\n",
        "    #initialize images based on true labels\n",
        "    normal_images = []\n",
        "    pneumonia_images = []\n",
        "\n",
        "    # Collect images based on their true labels\n",
        "    for img_batch, label_batch in test_generator:\n",
        "        for i in range(len(img_batch)):\n",
        "            if label_batch[i] == 0 and len(normal_images) < num_images_per_class:\n",
        "                normal_images.append((img_batch[i], 0))\n",
        "            elif label_batch[i] == 1 and len(pneumonia_images) < num_images_per_class:\n",
        "                pneumonia_images.append((img_batch[i], 1))\n",
        "\n",
        "            # Stop collecting if reached required number of images\n",
        "            if len(normal_images) >= num_images_per_class and len(pneumonia_images) >= num_images_per_class:\n",
        "                break\n",
        "        if len(normal_images) >= num_images_per_class and len(pneumonia_images) >= num_images_per_class:\n",
        "            break\n",
        "\n",
        "    # Combine and shuffle images\n",
        "    images_to_display = normal_images + pneumonia_images\n",
        "    np.random.shuffle(images_to_display)\n",
        "\n",
        "    # Display images\n",
        "    f, ax = plt.subplots(4, 5, figsize=(15, 12))  # 4 rows and 5 columns\n",
        "    for i in range(len(images_to_display)):\n",
        "        img, true_label = images_to_display[i]\n",
        "        true_label_text = 'Normal' if true_label == 0 else 'Pneumonia'\n",
        "        predicted_label_text = 'Normal' if predicted_classes[i] == 0 else 'Pneumonia'\n",
        "\n",
        "        ax[i // 5, i % 5].imshow(img)\n",
        "        ax[i // 5, i % 5].set_title(f'True: {true_label_text}\\nPred: {predicted_label_text}')\n",
        "        ax[i // 5, i % 5].axis('off')\n",
        "\n",
        "    plt.tight_layout()\n",
        "    plt.show()\n",
        "#visualize\n",
        "visualize_predictions_grid(test_generator, predicted_classes, true_labels)\n"
      ],
      "metadata": {
        "execution": {
          "iopub.status.busy": "2024-11-02T19:05:56.611217Z",
          "iopub.execute_input": "2024-11-02T19:05:56.611614Z",
          "iopub.status.idle": "2024-11-02T19:06:01.026226Z",
          "shell.execute_reply.started": "2024-11-02T19:05:56.611576Z",
          "shell.execute_reply": "2024-11-02T19:06:01.025176Z"
        },
        "trusted": true,
        "id": "CNSJhdfZTr26"
      },
      "execution_count": null,
      "outputs": []
    },
    {
      "cell_type": "code",
      "source": [
        "import matplotlib.pyplot as plt\n",
        "import seaborn as sns\n",
        "\n",
        "from sklearn.metrics import classification_report, confusion_matrix\n",
        "\n",
        "#true labels from the test generator\n",
        "true_classes = test_generator.classes\n",
        "\n",
        "#confusion matrix\n",
        "conf_matrix = confusion_matrix(true_classes, predicted_classes)\n",
        "\n",
        "plt.figure(figsize=(4, 4))\n",
        "sns.heatmap(conf_matrix, annot=True, fmt='d', cmap='magma', xticklabels=['Normal', 'Pneumonia'], yticklabels=['Normal', 'Pneumonia'])\n",
        "plt.ylabel('True label')\n",
        "plt.xlabel('Predicted label')\n",
        "plt.title('Confusion Matrix')\n",
        "plt.show()"
      ],
      "metadata": {
        "execution": {
          "iopub.status.busy": "2024-11-02T19:06:28.789567Z",
          "iopub.execute_input": "2024-11-02T19:06:28.79032Z",
          "iopub.status.idle": "2024-11-02T19:06:29.008951Z",
          "shell.execute_reply.started": "2024-11-02T19:06:28.790272Z",
          "shell.execute_reply": "2024-11-02T19:06:29.007994Z"
        },
        "trusted": true,
        "id": "9QKB5RqYTr26"
      },
      "execution_count": null,
      "outputs": []
    },
    {
      "cell_type": "code",
      "source": [
        "#Calculate metrics\n",
        "accuracy = accuracy_score(true_labels, predicted_classes)\n",
        "precision = precision_score(true_labels, predicted_classes)\n",
        "auc = roc_auc_score(true_labels, predictions)  # Use predicted probabilities for AUC\n",
        "\n",
        "#Print the metrics\n",
        "print(f\"TEST Accuracy: {accuracy:.4f}\")\n",
        "print(f\"TEST Precision: {precision:.4f}\")\n",
        "print(f\"TEST AUC: {auc:.4f}\")\n"
      ],
      "metadata": {
        "execution": {
          "iopub.status.busy": "2024-11-02T19:06:32.723711Z",
          "iopub.execute_input": "2024-11-02T19:06:32.724427Z",
          "iopub.status.idle": "2024-11-02T19:06:32.736402Z",
          "shell.execute_reply.started": "2024-11-02T19:06:32.724378Z",
          "shell.execute_reply": "2024-11-02T19:06:32.735211Z"
        },
        "trusted": true,
        "id": "QHauaQEHTr27"
      },
      "execution_count": null,
      "outputs": []
    },
    {
      "cell_type": "code",
      "source": [
        "#plot metrics\n",
        "def plot_metrics(accuracy, precision, auc):\n",
        "    metrics = ['Accuracy', 'Precision', 'AUC']\n",
        "    values = [accuracy, precision, auc]\n",
        "\n",
        "    plt.figure(figsize=(4, 5))\n",
        "    bars = plt.bar(metrics, values, color=['slateblue', 'darkcyan', 'crimson'])\n",
        "\n",
        "    for bar in bars:\n",
        "        yval = bar.get_height()\n",
        "        plt.text(bar.get_x() + bar.get_width()/2, yval, round(yval, 4), ha='center', va='bottom')\n",
        "\n",
        "    plt.ylim(0, 1)\n",
        "    plt.title('Test Data Metrics')\n",
        "    plt.ylabel('Score')\n",
        "    plt.grid(axis='y')\n",
        "    plt.show()\n",
        "\n",
        "# visualize metrics\n",
        "plot_metrics(accuracy, precision, auc)"
      ],
      "metadata": {
        "execution": {
          "iopub.status.busy": "2024-11-02T19:06:35.579652Z",
          "iopub.execute_input": "2024-11-02T19:06:35.580412Z",
          "iopub.status.idle": "2024-11-02T19:06:35.80572Z",
          "shell.execute_reply.started": "2024-11-02T19:06:35.580363Z",
          "shell.execute_reply": "2024-11-02T19:06:35.804811Z"
        },
        "trusted": true,
        "id": "ML0wZ_mPTr27"
      },
      "execution_count": null,
      "outputs": []
    }
  ]
}